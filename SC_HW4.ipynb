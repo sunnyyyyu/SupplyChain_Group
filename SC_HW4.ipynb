{
 "cells": [
  {
   "cell_type": "code",
   "execution_count": 36,
   "id": "3a368ff5",
   "metadata": {},
   "outputs": [
    {
     "name": "stdout",
     "output_type": "stream",
     "text": [
      "Requirement already satisfied: pulp in /Users/sunny/anaconda3/lib/python3.10/site-packages (2.8.0)\n",
      "\n",
      "\u001b[1m[\u001b[0m\u001b[34;49mnotice\u001b[0m\u001b[1;39;49m]\u001b[0m\u001b[39;49m A new release of pip is available: \u001b[0m\u001b[31;49m23.3.2\u001b[0m\u001b[39;49m -> \u001b[0m\u001b[32;49m24.0\u001b[0m\n",
      "\u001b[1m[\u001b[0m\u001b[34;49mnotice\u001b[0m\u001b[1;39;49m]\u001b[0m\u001b[39;49m To update, run: \u001b[0m\u001b[32;49mpip install --upgrade pip\u001b[0m\n"
     ]
    }
   ],
   "source": [
    "!pip install pulp\n",
    "import numpy as np\n",
    "from gurobipy import Model, GRB, quicksum\n",
    "from tabulate import tabulate\n",
    "import matplotlib.pyplot as plt\n",
    "from IPython.display import Markdown, display"
   ]
  },
  {
   "cell_type": "markdown",
   "id": "88fbad65",
   "metadata": {},
   "source": [
    "# Question 2"
   ]
  },
  {
   "cell_type": "markdown",
   "id": "1a285a21",
   "metadata": {},
   "source": [
    "## Updated Costs"
   ]
  },
  {
   "cell_type": "code",
   "execution_count": 37,
   "id": "0d9fa2ed",
   "metadata": {},
   "outputs": [],
   "source": [
    "### User defined variables\n",
    "promote = 0\n",
    "month = 4\n",
    "base_price = 40\n",
    "promotion_price = base_price - 1\n",
    "consumption = 0.10\n",
    "forward_buy = 0.20\n",
    "\n",
    "F = np.array([0, 1500, 3000, 3200, 3900, 2200, 2200, 1100])\n",
    "\n",
    "### Variables based on input\n",
    "n_months = len(F)-1\n",
    "F = np.append(F, [0, 0])"
   ]
  },
  {
   "cell_type": "code",
   "execution_count": 38,
   "id": "4042ea47",
   "metadata": {},
   "outputs": [],
   "source": [
    "def plot_inventory():\n",
    "  t_values = list(range(1, n_months + 1))\n",
    "\n",
    "  plt.plot(t_values, [I[t].x for t in t_values], marker='o', label='Inventory')\n",
    "  plt.plot(t_values, [P[t].x for t in t_values], marker='s', label='Production')\n",
    "  plt.plot(t_values, [D[t].x for t in t_values], marker='D', label='Demand')\n",
    "  plt.plot(t_values, [S[t].x for t in t_values], marker='^', label='Stockout')\n",
    "  plt.plot(t_values, [C[t].x for t in t_values], marker='x', label='Subcontracting')\n",
    "\n",
    "  # Adding labels and legend\n",
    "  plt.xlabel('Period')\n",
    "  plt.ylabel('')\n",
    "  plt.legend(loc='best')\n",
    "  plt.title('Aggregate Plan')\n",
    "  plt.grid(axis='y')\n",
    "\n",
    "  # Show the plot\n",
    "  plt.show()"
   ]
  },
  {
   "cell_type": "code",
   "execution_count": 39,
   "id": "43456055",
   "metadata": {},
   "outputs": [
    {
     "data": {
      "text/markdown": [
       "|   Period |   Hired |   LaidOff |   Workforce |   OT Hours |   Inventory |   Stockout |   Subcontract |   Production |   Demand |   Price |\n",
       "|---------:|--------:|----------:|------------:|-----------:|------------:|-----------:|--------------:|-------------:|---------:|--------:|\n",
       "|        0 |       0 |         0 |          80 |          0 |        1000 |          0 |             0 |            0 |        0 |       - |\n",
       "|        1 |       0 |        14 |          66 |          0 |        2140 |          0 |             0 |         2640 |     1500 |    40.0 |\n",
       "|        2 |       0 |         0 |          66 |          0 |        1780 |          0 |             0 |         2640 |     3000 |    40.0 |\n",
       "|        3 |       0 |         0 |          66 |          0 |        1220 |          0 |             0 |         2640 |     3200 |    40.0 |\n",
       "|        4 |       0 |         0 |          66 |          0 |           0 |          0 |            40 |         2640 |     3900 |    40.0 |\n",
       "|        5 |       0 |        12 |          54 |          0 |           0 |         40 |             0 |         2160 |     2200 |    40.0 |\n",
       "|        6 |       0 |         6 |          48 |          0 |           0 |        320 |             0 |         1920 |     2200 |    40.0 |\n",
       "|        7 |       0 |         0 |          48 |          0 |         500 |          0 |             0 |         1920 |     1100 |    40.0 |"
      ],
      "text/plain": [
       "<IPython.core.display.Markdown object>"
      ]
     },
     "metadata": {},
     "output_type": "display_data"
    },
    {
     "name": "stdout",
     "output_type": "stream",
     "text": [
      "Minimum Cost : $ 460,840.00\n",
      "Total Revenue: $ 684,000.00\n",
      "Profit       : $ 223,160.00\n",
      "updated_january_costs : 79920.0\n"
     ]
    }
   ],
   "source": [
    "\n",
    "# Create a Gurobi model\n",
    "model = Model(\"MinimizeCost2\")\n",
    "\n",
    "H = {(t): model.addVar(vtype=GRB.INTEGER, lb=0, name=f\"H_{t}\") for t in range(0, n_months+1)}\n",
    "L = {(t): model.addVar(vtype=GRB.INTEGER, lb=0, name=f\"L_{t}\") for t in range(0, n_months+1)}\n",
    "W = {(t): model.addVar(vtype=GRB.INTEGER, lb=0, name=f\"W_{t}\") for t in range(0, n_months+1)}\n",
    "O = {(t): model.addVar(vtype=GRB.INTEGER, lb=0, name=f\"O_{t}\") for t in range(0, n_months+1)}\n",
    "I = {(t): model.addVar(vtype=GRB.INTEGER, lb=0, name=f\"I_{t}\") for t in range(0, n_months+1)}\n",
    "S = {(t): model.addVar(vtype=GRB.INTEGER, lb=0, name=f\"S_{t}\") for t in range(0, n_months+1)}\n",
    "C = {(t): model.addVar(vtype=GRB.INTEGER, lb=0, name=f\"C_{t}\") for t in range(0, n_months+1)}\n",
    "P = {(t): model.addVar(vtype=GRB.INTEGER, lb=0, name=f\"P_{t}\") for t in range(0, n_months+1)}\n",
    "D = {(t): model.addVar(vtype=GRB.INTEGER, lb=0, name=f\"D_{t}\") for t in range(0, n_months+1)}\n",
    "\n",
    "# Update the model\n",
    "model.update()\n",
    "\n",
    "# Set objective function - Total cost = Production & Transportation cost across network + Fixed cost of low cap line + fixed cost of high cap line\n",
    "model.setObjective(\n",
    "    quicksum( 300*H[t] + 500*L[t] + 640*W[t] + 6*O[t] + 2*I[t] + 5*S[t] + 30*C[t] + 10*P[t] for t in range(1, n_months+1) ),\n",
    "    GRB.MINIMIZE)\n",
    "\n",
    "### Constraints\n",
    "for t in range(1, n_months+1):\n",
    "\n",
    "  # Workforce size for each month is based on hiring and layoffs, W_t = W_{t-1} + H_t - L_t\n",
    "  model.addConstr(W[0] == 80, name=f\"Workforce_Beg\")\n",
    "  model.addConstr(W[t] - W[t-1] - H[t] + L[t] == 0, name=f\"Workforce_size_constraint_{t}\")\n",
    "\n",
    "  # Demand constraints\n",
    "  if promote == 0:\n",
    "      model.addConstr(D[t] == F[t], name=f\"D_constraint_{t}\")\n",
    "  else:\n",
    "      if t == month:\n",
    "          model.addConstr(D[t] == F[t] * (1 + consumption) + forward_buy * (F[t+1] + F[t+2]), name=f\"D_constraint_{t}\")\n",
    "      else:\n",
    "          if t <= 2 + promote:\n",
    "              if t > promote:\n",
    "                  model.addConstr(D[t] == (1 - forward_buy) * F[t], name=f\"D_constraint_{t}\")\n",
    "              else:\n",
    "                  model.addConstr(D[t] == F[t], name=f\"D_constraint_{t}\")\n",
    "          else:\n",
    "              model.addConstr(D[t] == F[t], name=f\"D_constraint_{t}\")\n",
    "\n",
    "  # Inventory balance constraint: I_{t-1} + P_t + C_t = D_t + S_{t-1} + I_t - S_t\n",
    "  model.addConstr(I[0] == 1000, name=f\"Inventory_Beg\")\n",
    "  model.addConstr(I[t-1] + P[t] + C[t] - D[t] - S[t-1] - I[t] + S[t] == 0, name=f\"Inventory_constraint_{t}\")\n",
    "  model.addConstr(I[n_months] >= 500, name=f\"Inventory_End\")\n",
    "\n",
    "  # Stockout constraint: No stockout at the end\n",
    "  model.addConstr(S[n_months] == 0, name=f\"Stockout_End\")\n",
    "\n",
    "  # Production <= Capacity P_t <= 40 W_t + O_t/4\n",
    "  model.addConstr(40*W[t] + O[t]/4 - P[t] >= 0, name=f\"Capacity_constraint_{t}\")\n",
    "\n",
    "  # Overtime constraint O_t <= 10 W_t\n",
    "  model.addConstr(10*W[t] - O[t] >= 0, name=f\"Overtime_constraint_{t}\")\n",
    "\n",
    "\n",
    "# Suppress optimization output\n",
    "model.Params.OutputFlag = 0\n",
    "\n",
    "# Optimize the model\n",
    "model.optimize()\n",
    "\n",
    "### Calculate price\n",
    "Pr = np.zeros(n_months+1)\n",
    "for t in range(0, n_months + 1):\n",
    "  if promote == 1 and t == month:\n",
    "    Pr[t] = promotion_price\n",
    "  else:\n",
    "    Pr[t] = base_price\n",
    "  if t == 0:\n",
    "    Pr[t] = np.nan\n",
    "\n",
    "### Total revenue = sumproduct (demand*price)\n",
    "revenue = sum([D[t].x * Pr[t] for t in range(1, n_months + 1)])\n",
    "\n",
    "opt_results = []\n",
    "for t in range(0, n_months + 1):\n",
    "    row = [\n",
    "        t,\n",
    "        int(H[t].x),\n",
    "        int(L[t].x),\n",
    "        int(W[t].x),\n",
    "        int(O[t].x),\n",
    "        int(I[t].x),\n",
    "        int(S[t].x),\n",
    "        int(C[t].x),\n",
    "        int(P[t].x),\n",
    "        int(D[t].x),\n",
    "        \"{:.1f}\".format(Pr[t]) if t > 0 else \"-\"\n",
    "    ]\n",
    "    opt_results.append(row)\n",
    "\n",
    "# Slightly longer abbreviations for headers\n",
    "headers = [\"Period\", \"Hired\", \"LaidOff\", \"Workforce\", \"OT Hours\", \"Inventory\", \"Stockout\", \"Subcontract\", \"Production\", \"Demand\", \"Price\"]\n",
    "\n",
    "# Use a compact table format\n",
    "table = tabulate(opt_results, headers=headers, tablefmt=\"pipe\", numalign=\"right\", stralign=\"right\")\n",
    "\n",
    "# Display the table in Jupyter notebook\n",
    "display(Markdown(table))\n",
    "\n",
    "mimimum_cost_updated = model.objVal\n",
    "\n",
    "print(f\"Minimum Cost : $ {model.objVal:,.2f}\")\n",
    "print(f\"Total Revenue: $ {revenue:,.2f}\")\n",
    "print(f\"Profit       : $ {(revenue-model.objVal):,.2f}\")\n",
    "# After optimizing the model with updated demand\n",
    "updated_january_costs = 300 * H[1].x + 500 * L[1].x + 640 * W[1].x + 6 * O[1].x + 2 * I[1].x + 5 * S[1].x + 30 * C[1].x + 10 * P[1].x\n",
    "print(\"updated_january_costs :\", updated_january_costs)"
   ]
  },
  {
   "cell_type": "markdown",
   "id": "143742d9",
   "metadata": {},
   "source": [
    "## Original Costs"
   ]
  },
  {
   "cell_type": "code",
   "execution_count": 40,
   "id": "7bac4fae",
   "metadata": {},
   "outputs": [
    {
     "data": {
      "text/markdown": [
       "|   Period |   Hired |   LaidOff |   Workforce |   OT Hours |   Inventory |   Stockout |   Subcontract |   Production |   Demand |   Price |\n",
       "|---------:|--------:|----------:|------------:|-----------:|------------:|-----------:|--------------:|-------------:|---------:|--------:|\n",
       "|        0 |       0 |         0 |          80 |          0 |        1000 |          0 |             0 |            0 |        0 |       - |\n",
       "|        1 |       0 |        15 |          65 |          0 |        2000 |          0 |             0 |         2600 |     1600 |    40.0 |\n",
       "|        2 |       0 |         0 |          65 |          0 |        1600 |          0 |             0 |         2600 |     3000 |    40.0 |\n",
       "|        3 |       0 |         0 |          65 |          0 |        1000 |          0 |             0 |         2600 |     3200 |    40.0 |\n",
       "|        4 |       0 |         1 |          64 |          0 |           0 |        220 |            20 |         2560 |     3800 |    40.0 |\n",
       "|        5 |       0 |         0 |          64 |          0 |         140 |          0 |             0 |         2560 |     2200 |    40.0 |\n",
       "|        6 |       0 |         0 |          64 |          0 |         500 |          0 |             0 |         2560 |     2200 |    40.0 |"
      ],
      "text/plain": [
       "<IPython.core.display.Markdown object>"
      ]
     },
     "metadata": {},
     "output_type": "display_data"
    },
    {
     "name": "stdout",
     "output_type": "stream",
     "text": [
      "Minimum Cost : $ 422,660.00\n",
      "Total Revenue: $ 640,000.00\n",
      "Profit       : $ 217,340.00\n",
      "original_january_costs : 79100.0\n"
     ]
    }
   ],
   "source": [
    "\n",
    "### User defined variables\n",
    "F = np.array([0, 1600, 3000, 3200, 3800, 2200, 2200])\n",
    "\n",
    "### Variables based on input\n",
    "n_months = len(F)-1\n",
    "F = np.append(F, [0, 0])\n",
    "\n",
    "\n",
    "# Create a Gurobi model\n",
    "model = Model(\"MinimizeCost\")\n",
    "\n",
    "H = {(t): model.addVar(vtype=GRB.INTEGER, lb=0, name=f\"H_{t}\") for t in range(0, n_months+1)}\n",
    "L = {(t): model.addVar(vtype=GRB.INTEGER, lb=0, name=f\"L_{t}\") for t in range(0, n_months+1)}\n",
    "W = {(t): model.addVar(vtype=GRB.INTEGER, lb=0, name=f\"W_{t}\") for t in range(0, n_months+1)}\n",
    "O = {(t): model.addVar(vtype=GRB.INTEGER, lb=0, name=f\"O_{t}\") for t in range(0, n_months+1)}\n",
    "I = {(t): model.addVar(vtype=GRB.INTEGER, lb=0, name=f\"I_{t}\") for t in range(0, n_months+1)}\n",
    "S = {(t): model.addVar(vtype=GRB.INTEGER, lb=0, name=f\"S_{t}\") for t in range(0, n_months+1)}\n",
    "C = {(t): model.addVar(vtype=GRB.INTEGER, lb=0, name=f\"C_{t}\") for t in range(0, n_months+1)}\n",
    "P = {(t): model.addVar(vtype=GRB.INTEGER, lb=0, name=f\"P_{t}\") for t in range(0, n_months+1)}\n",
    "D = {(t): model.addVar(vtype=GRB.INTEGER, lb=0, name=f\"D_{t}\") for t in range(0, n_months+1)}\n",
    "\n",
    "# Update the model\n",
    "model.update()\n",
    "\n",
    "# Set objective function - Total cost = Production & Transportation cost across network + Fixed cost of low cap line + fixed cost of high cap line\n",
    "model.setObjective(\n",
    "    quicksum( 300*H[t] + 500*L[t] + 640*W[t] + 6*O[t] + 2*I[t] + 5*S[t] + 30*C[t] + 10*P[t] for t in range(1, n_months+1) ),\n",
    "    GRB.MINIMIZE)\n",
    "\n",
    "### Constraints\n",
    "for t in range(1, n_months+1):\n",
    "\n",
    "  # Workforce size for each month is based on hiring and layoffs, W_t = W_{t-1} + H_t - L_t\n",
    "  model.addConstr(W[0] == 80, name=f\"Workforce_Beg\")\n",
    "  model.addConstr(W[t] - W[t-1] - H[t] + L[t] == 0, name=f\"Workforce_size_constraint_{t}\")\n",
    "\n",
    "  # Demand constraints\n",
    "  if promote == 0:\n",
    "      model.addConstr(D[t] == F[t], name=f\"D_constraint_{t}\")\n",
    "  else:\n",
    "      if t == month:\n",
    "          model.addConstr(D[t] == F[t] * (1 + consumption) + forward_buy * (F[t+1] + F[t+2]), name=f\"D_constraint_{t}\")\n",
    "      else:\n",
    "          if t <= 2 + promote:\n",
    "              if t > promote:\n",
    "                  model.addConstr(D[t] == (1 - forward_buy) * F[t], name=f\"D_constraint_{t}\")\n",
    "              else:\n",
    "                  model.addConstr(D[t] == F[t], name=f\"D_constraint_{t}\")\n",
    "          else:\n",
    "              model.addConstr(D[t] == F[t], name=f\"D_constraint_{t}\")\n",
    "\n",
    "  # Inventory balance constraint: I_{t-1} + P_t + C_t = D_t + S_{t-1} + I_t - S_t\n",
    "  model.addConstr(I[0] == 1000, name=f\"Inventory_Beg\")\n",
    "  model.addConstr(I[t-1] + P[t] + C[t] - D[t] - S[t-1] - I[t] + S[t] == 0, name=f\"Inventory_constraint_{t}\")\n",
    "  model.addConstr(I[n_months] >= 500, name=f\"Inventory_End\")\n",
    "\n",
    "  # Stockout constraint: No stockout at the end\n",
    "  model.addConstr(S[n_months] == 0, name=f\"Stockout_End\")\n",
    "\n",
    "  # Production <= Capacity P_t <= 40 W_t + O_t/4\n",
    "  model.addConstr(40*W[t] + O[t]/4 - P[t] >= 0, name=f\"Capacity_constraint_{t}\")\n",
    "\n",
    "  # Overtime constraint O_t <= 10 W_t\n",
    "  model.addConstr(10*W[t] - O[t] >= 0, name=f\"Overtime_constraint_{t}\")\n",
    "\n",
    "\n",
    "# Suppress optimization output\n",
    "model.Params.OutputFlag = 0\n",
    "\n",
    "# Optimize the model\n",
    "model.optimize()\n",
    "\n",
    "### Calculate price\n",
    "Pr = np.zeros(n_months+1)\n",
    "for t in range(0, n_months + 1):\n",
    "  if promote == 1 and t == month:\n",
    "    Pr[t] = promotion_price\n",
    "  else:\n",
    "    Pr[t] = base_price\n",
    "  if t == 0:\n",
    "    Pr[t] = np.nan\n",
    "\n",
    "### Total revenue = sumproduct (demand*price)\n",
    "revenue = sum([D[t].x * Pr[t] for t in range(1, n_months + 1)])\n",
    "\n",
    "opt_results = []\n",
    "for t in range(0, n_months + 1):\n",
    "    row = [\n",
    "        t,\n",
    "        int(H[t].x),\n",
    "        int(L[t].x),\n",
    "        int(W[t].x),\n",
    "        int(O[t].x),\n",
    "        int(I[t].x),\n",
    "        int(S[t].x),\n",
    "        int(C[t].x),\n",
    "        int(P[t].x),\n",
    "        int(D[t].x),\n",
    "        \"{:.1f}\".format(Pr[t]) if t > 0 else \"-\"\n",
    "    ]\n",
    "    opt_results.append(row)\n",
    "\n",
    "# Slightly longer abbreviations for headers\n",
    "headers = [\"Period\", \"Hired\", \"LaidOff\", \"Workforce\", \"OT Hours\", \"Inventory\", \"Stockout\", \"Subcontract\", \"Production\", \"Demand\", \"Price\"]\n",
    "\n",
    "# Use a compact table format\n",
    "table = tabulate(opt_results, headers=headers, tablefmt=\"pipe\", numalign=\"right\", stralign=\"right\")\n",
    "\n",
    "# Display the table in Jupyter notebook\n",
    "display(Markdown(table))\n",
    "\n",
    "print(f\"Minimum Cost : $ {model.objVal:,.2f}\")\n",
    "print(f\"Total Revenue: $ {revenue:,.2f}\")\n",
    "print(f\"Profit       : $ {(revenue-model.objVal):,.2f}\")\n",
    "\n",
    "original_january_costs = 300 * H[1].x + 500 * L[1].x + 640 * W[1].x + 6 * O[1].x + 2 * I[1].x + 5 * S[1].x + 30 * C[1].x + 10 * P[1].x\n",
    "print(\"original_january_costs :\", original_january_costs)"
   ]
  },
  {
   "cell_type": "markdown",
   "id": "82701554",
   "metadata": {},
   "source": [
    "# Question 3"
   ]
  },
  {
   "cell_type": "code",
   "execution_count": 42,
   "id": "b1b40700",
   "metadata": {},
   "outputs": [
    {
     "name": "stdout",
     "output_type": "stream",
     "text": [
      "Impact on January Costs: $ 820.00\n"
     ]
    }
   ],
   "source": [
    "# Calculate the impact\n",
    "impact_on_january_costs = updated_january_costs - original_january_costs\n",
    "\n",
    "print(f\"Impact on January Costs: $ {impact_on_january_costs:,.2f}\")"
   ]
  },
  {
   "cell_type": "markdown",
   "id": "7a77f5a4",
   "metadata": {},
   "source": [
    "# Question 4"
   ]
  },
  {
   "cell_type": "code",
   "execution_count": 43,
   "id": "ecf8a318",
   "metadata": {},
   "outputs": [
    {
     "data": {
      "text/plain": [
       "38180"
      ]
     },
     "execution_count": 43,
     "metadata": {},
     "output_type": "execute_result"
    }
   ],
   "source": [
    "# mimimum costs between original and updated\n",
    "460840 - 422660 "
   ]
  },
  {
   "cell_type": "code",
   "execution_count": 44,
   "id": "fac986a6",
   "metadata": {},
   "outputs": [
    {
     "name": "stdout",
     "output_type": "stream",
     "text": [
      "Cost difference for Feb through June: $ -79,100.00\n"
     ]
    },
    {
     "data": {
      "image/png": "[encoded data removed]",
      "text/plain": [
       "<Figure size 640x480 with 1 Axes>"
      ]
     },
     "metadata": {},
     "output_type": "display_data"
    }
   ],
   "source": [
    "# Actual inventory at the end of January\n",
    "actual_inventory_Jan = 1000\n",
    "\n",
    "# Update the initial inventory constraint\n",
    "model.getConstrByName(\"Inventory_Beg\").setAttr(GRB.Attr.RHS, actual_inventory_Jan)\n",
    "\n",
    "# Re-optimize the model\n",
    "model.optimize()\n",
    "\n",
    "# Calculate the total cost for February through June in the updated plan\n",
    "total_cost_updated_plan = sum(300*H[t].x + 500*L[t].x + 640*W[t].x + 6*O[t].x + 2*I[t].x + 5*S[t].x + 30*C[t].x + 10*P[t].x for t in range(2, 7))\n",
    "\n",
    "# calculated the total cost for the original plan in a similar way\n",
    "total_cost_original_plan = 422660\n",
    "\n",
    "# Calculate the cost difference\n",
    "cost_difference = total_cost_updated_plan - total_cost_original_plan\n",
    "\n",
    "print(f\"Cost difference for Feb through June: $ {cost_difference:,.2f}\")\n",
    "\n",
    "# Plot the inventory and other relevant information\n",
    "plot_inventory()"
   ]
  }
 ],
 "metadata": {
  "kernelspec": {
   "display_name": "Python 3 (ipykernel)",
   "language": "python",
   "name": "python3"
  },
  "language_info": {
   "codemirror_mode": {
    "name": "ipython",
    "version": 3
   },
   "file_extension": ".py",
   "mimetype": "text/x-python",
   "name": "python",
   "nbconvert_exporter": "python",
   "pygments_lexer": "ipython3",
   "version": "3.10.13"
  }
 },
 "nbformat": 4,
 "nbformat_minor": 5
}
