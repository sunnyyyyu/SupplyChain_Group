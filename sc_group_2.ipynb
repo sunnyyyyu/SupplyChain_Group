{
 "cells": [
  {
   "cell_type": "markdown",
   "metadata": {
    "id": "XhzrAMzxGo1h"
   },
   "source": [
    "# Setup"
   ]
  },
  {
   "cell_type": "code",
   "execution_count": 1,
   "metadata": {
    "id": "4W2rHq8lGo1i"
   },
   "outputs": [],
   "source": [
    "# load libraries\n",
    "import os\n",
    "import math\n",
    "import matplotlib.pyplot as plt\n",
    "import numpy as np\n",
    "import pandas as pd\n",
    "import seaborn as sns\n",
    "\n",
    "# control the figure size\n",
    "plt.rcParams[\"figure.figsize\"] = (20,3)\n"
   ]
  },
  {
   "cell_type": "code",
   "execution_count": 2,
   "metadata": {
    "id": "Au0cE7pBGo1j"
   },
   "outputs": [],
   "source": [
    "# load demand data\n",
    "demand_data = pd.read_csv(\n",
    "    'https://raw.githubusercontent.com/nosadchiy/public/main/demand.csv',\n",
    "    dtype={\"Month\": str, \"Date\": int, \"Demand\": int})\n",
    "\n",
    "# load intake price data\n",
    "intake_price_data =  pd.read_csv(\n",
    "    'https://raw.githubusercontent.com/nosadchiy/public/main/intake_price.csv',\n",
    "    dtype={\"Intake\": int, \"Price\": float})"
   ]
  },
  {
   "cell_type": "code",
   "execution_count": 4,
   "metadata": {
    "colab": {
     "base_uri": "https://localhost:8080/",
     "height": 206
    },
    "id": "dJ4yF3kcGo1j",
    "outputId": "3d2580ef-0f84-4119-d54f-fc495fb350c2"
   },
   "outputs": [
    {
     "data": {
      "text/html": [
       "<div>\n",
       "<style scoped>\n",
       "    .dataframe tbody tr th:only-of-type {\n",
       "        vertical-align: middle;\n",
       "    }\n",
       "\n",
       "    .dataframe tbody tr th {\n",
       "        vertical-align: top;\n",
       "    }\n",
       "\n",
       "    .dataframe thead th {\n",
       "        text-align: right;\n",
       "    }\n",
       "</style>\n",
       "<table border=\"1\" class=\"dataframe\">\n",
       "  <thead>\n",
       "    <tr style=\"text-align: right;\">\n",
       "      <th></th>\n",
       "      <th>Month</th>\n",
       "      <th>Date</th>\n",
       "      <th>Demand</th>\n",
       "    </tr>\n",
       "  </thead>\n",
       "  <tbody>\n",
       "    <tr>\n",
       "      <th>0</th>\n",
       "      <td>December</td>\n",
       "      <td>1</td>\n",
       "      <td>94</td>\n",
       "    </tr>\n",
       "    <tr>\n",
       "      <th>1</th>\n",
       "      <td>December</td>\n",
       "      <td>2</td>\n",
       "      <td>304</td>\n",
       "    </tr>\n",
       "    <tr>\n",
       "      <th>2</th>\n",
       "      <td>December</td>\n",
       "      <td>3</td>\n",
       "      <td>70</td>\n",
       "    </tr>\n",
       "    <tr>\n",
       "      <th>3</th>\n",
       "      <td>December</td>\n",
       "      <td>4</td>\n",
       "      <td>222</td>\n",
       "    </tr>\n",
       "    <tr>\n",
       "      <th>4</th>\n",
       "      <td>December</td>\n",
       "      <td>5</td>\n",
       "      <td>123</td>\n",
       "    </tr>\n",
       "  </tbody>\n",
       "</table>\n",
       "</div>"
      ],
      "text/plain": [
       "      Month  Date  Demand\n",
       "0  December     1      94\n",
       "1  December     2     304\n",
       "2  December     3      70\n",
       "3  December     4     222\n",
       "4  December     5     123"
      ]
     },
     "execution_count": 4,
     "metadata": {},
     "output_type": "execute_result"
    }
   ],
   "source": [
    "# inspect demand data\n",
    "demand_data.head()"
   ]
  },
  {
   "cell_type": "code",
   "execution_count": 5,
   "metadata": {
    "colab": {
     "base_uri": "https://localhost:8080/",
     "height": 206
    },
    "id": "7bFYiBfSGo1k",
    "outputId": "94752aaf-3869-4f34-c78e-f84ae1a8cf14"
   },
   "outputs": [
    {
     "data": {
      "text/html": [
       "<div>\n",
       "<style scoped>\n",
       "    .dataframe tbody tr th:only-of-type {\n",
       "        vertical-align: middle;\n",
       "    }\n",
       "\n",
       "    .dataframe tbody tr th {\n",
       "        vertical-align: top;\n",
       "    }\n",
       "\n",
       "    .dataframe thead th {\n",
       "        text-align: right;\n",
       "    }\n",
       "</style>\n",
       "<table border=\"1\" class=\"dataframe\">\n",
       "  <thead>\n",
       "    <tr style=\"text-align: right;\">\n",
       "      <th></th>\n",
       "      <th>Intake</th>\n",
       "      <th>Price</th>\n",
       "    </tr>\n",
       "  </thead>\n",
       "  <tbody>\n",
       "    <tr>\n",
       "      <th>0</th>\n",
       "      <td>20</td>\n",
       "      <td>1.0</td>\n",
       "    </tr>\n",
       "    <tr>\n",
       "      <th>1</th>\n",
       "      <td>24</td>\n",
       "      <td>1.0</td>\n",
       "    </tr>\n",
       "    <tr>\n",
       "      <th>2</th>\n",
       "      <td>31</td>\n",
       "      <td>1.0</td>\n",
       "    </tr>\n",
       "    <tr>\n",
       "      <th>3</th>\n",
       "      <td>34</td>\n",
       "      <td>1.0</td>\n",
       "    </tr>\n",
       "    <tr>\n",
       "      <th>4</th>\n",
       "      <td>37</td>\n",
       "      <td>1.0</td>\n",
       "    </tr>\n",
       "  </tbody>\n",
       "</table>\n",
       "</div>"
      ],
      "text/plain": [
       "   Intake  Price\n",
       "0      20    1.0\n",
       "1      24    1.0\n",
       "2      31    1.0\n",
       "3      34    1.0\n",
       "4      37    1.0"
      ]
     },
     "execution_count": 5,
     "metadata": {},
     "output_type": "execute_result"
    }
   ],
   "source": [
    "# inspect intake price data\n",
    "intake_price_data.head()"
   ]
  },
  {
   "cell_type": "markdown",
   "metadata": {
    "id": "K4z3b8-nGo1k"
   },
   "source": [
    "# Decision Variables"
   ]
  },
  {
   "cell_type": "code",
   "execution_count": 6,
   "metadata": {
    "id": "j-dkqslxGo1k"
   },
   "outputs": [],
   "source": [
    "# decision variables\n",
    "calng_price = 7.50 # set by CaLNG\n",
    "\n",
    "peak_intake_from_pipeline = 181"
   ]
  },
  {
   "cell_type": "markdown",
   "metadata": {
    "id": "HFpfTdrdGo1k"
   },
   "source": [
    "# Utility (Actual Usage)"
   ]
  },
  {
   "cell_type": "code",
   "execution_count": 7,
   "metadata": {
    "id": "IPvI7SnrGo1k"
   },
   "outputs": [],
   "source": [
    "def determine_actual_usage(demand_data, calng_price, peak_intake_from_pipeline, total_lng_intake):\n",
    "    '''\n",
    "    this function determines the actual usage given CaLNG's price and peak intake from pipeline\n",
    "\n",
    "    inputs:\n",
    "    - calng_price: price set by CaLNG\n",
    "    - peak_intake_from_pipeline: maximum intake from pipeline, after which consume LNG\n",
    "    - demand_data: observed demand data (Month, Data, Demand in MMcF)\n",
    "    - total_lng_intake: maximum amount ogf LNG to be used over the season\n",
    "\n",
    "    outputs:\n",
    "    - usage_data: usage data given observed demand, CaLNG price, and peak intake from pipeline\n",
    "    '''\n",
    "    usage_data = demand_data.copy()\n",
    "\n",
    "    # set price index\n",
    "    usage_data.reset_index(inplace=True, drop=False)\n",
    "    usage_data = usage_data.rename(columns={'index': 'price_index'})\n",
    "\n",
    "    usage_data['pipeline_price'] = usage_data.apply(lambda row: math.exp(max(0, (row['Demand'] - 144)/60)), axis=1)\n",
    "    usage_data['cost_from_pipeline_only'] = usage_data['Demand'] * usage_data['pipeline_price']\n",
    "    usage_data['demand_for_lng'] = usage_data.apply(lambda row: max(row['Demand'] - peak_intake_from_pipeline, 0), axis=1)\n",
    "    usage_data['purchase_from_calng'] = 0\n",
    "\n",
    "    accumulated_lng_usage = 0\n",
    "\n",
    "    for index, row in usage_data.iterrows():\n",
    "        purchase =  min(row['demand_for_lng'], total_lng_intake - accumulated_lng_usage)\n",
    "        usage_data.loc[index, 'purchase_from_calng'] = purchase\n",
    "        accumulated_lng_usage = accumulated_lng_usage + purchase\n",
    "\n",
    "\n",
    "    usage_data['pipeline_intake'] = usage_data['Demand']-usage_data['purchase_from_calng']\n",
    "    usage_data['pipeline_intake_price'] = usage_data.apply(lambda row: math.exp(max(0, (row['pipeline_intake'] - 144)/60)), axis=1)\n",
    "    usage_data['cost_from_both'] = usage_data['pipeline_intake'] * usage_data['pipeline_intake_price'] + usage_data['purchase_from_calng'] * calng_price\n",
    "    usage_data['savings'] = usage_data['cost_from_pipeline_only'] - usage_data['cost_from_both']\n",
    "\n",
    "    return usage_data\n"
   ]
  },
  {
   "cell_type": "code",
   "execution_count": 8,
   "metadata": {
    "colab": {
     "base_uri": "https://localhost:8080/",
     "height": 424
    },
    "id": "3PiMNshtGo1k",
    "outputId": "af5a951f-2daf-490c-f0aa-f1a975a293ad",
    "scrolled": false
   },
   "outputs": [
    {
     "data": {
      "text/html": [
       "<div>\n",
       "<style scoped>\n",
       "    .dataframe tbody tr th:only-of-type {\n",
       "        vertical-align: middle;\n",
       "    }\n",
       "\n",
       "    .dataframe tbody tr th {\n",
       "        vertical-align: top;\n",
       "    }\n",
       "\n",
       "    .dataframe thead th {\n",
       "        text-align: right;\n",
       "    }\n",
       "</style>\n",
       "<table border=\"1\" class=\"dataframe\">\n",
       "  <thead>\n",
       "    <tr style=\"text-align: right;\">\n",
       "      <th></th>\n",
       "      <th>price_index</th>\n",
       "      <th>Month</th>\n",
       "      <th>Date</th>\n",
       "      <th>Demand</th>\n",
       "      <th>pipeline_price</th>\n",
       "      <th>cost_from_pipeline_only</th>\n",
       "      <th>demand_for_lng</th>\n",
       "      <th>purchase_from_calng</th>\n",
       "      <th>pipeline_intake</th>\n",
       "      <th>pipeline_intake_price</th>\n",
       "      <th>cost_from_both</th>\n",
       "      <th>savings</th>\n",
       "    </tr>\n",
       "  </thead>\n",
       "  <tbody>\n",
       "    <tr>\n",
       "      <th>0</th>\n",
       "      <td>0</td>\n",
       "      <td>December</td>\n",
       "      <td>1</td>\n",
       "      <td>94</td>\n",
       "      <td>1.00</td>\n",
       "      <td>94.00</td>\n",
       "      <td>0</td>\n",
       "      <td>0</td>\n",
       "      <td>94</td>\n",
       "      <td>1.00</td>\n",
       "      <td>94.00</td>\n",
       "      <td>0.00</td>\n",
       "    </tr>\n",
       "    <tr>\n",
       "      <th>1</th>\n",
       "      <td>1</td>\n",
       "      <td>December</td>\n",
       "      <td>2</td>\n",
       "      <td>304</td>\n",
       "      <td>14.39</td>\n",
       "      <td>4375.14</td>\n",
       "      <td>123</td>\n",
       "      <td>123</td>\n",
       "      <td>181</td>\n",
       "      <td>1.85</td>\n",
       "      <td>1257.85</td>\n",
       "      <td>3117.30</td>\n",
       "    </tr>\n",
       "    <tr>\n",
       "      <th>2</th>\n",
       "      <td>2</td>\n",
       "      <td>December</td>\n",
       "      <td>3</td>\n",
       "      <td>70</td>\n",
       "      <td>1.00</td>\n",
       "      <td>70.00</td>\n",
       "      <td>0</td>\n",
       "      <td>0</td>\n",
       "      <td>70</td>\n",
       "      <td>1.00</td>\n",
       "      <td>70.00</td>\n",
       "      <td>0.00</td>\n",
       "    </tr>\n",
       "    <tr>\n",
       "      <th>3</th>\n",
       "      <td>3</td>\n",
       "      <td>December</td>\n",
       "      <td>4</td>\n",
       "      <td>222</td>\n",
       "      <td>3.67</td>\n",
       "      <td>814.58</td>\n",
       "      <td>41</td>\n",
       "      <td>41</td>\n",
       "      <td>181</td>\n",
       "      <td>1.85</td>\n",
       "      <td>642.85</td>\n",
       "      <td>171.74</td>\n",
       "    </tr>\n",
       "    <tr>\n",
       "      <th>4</th>\n",
       "      <td>4</td>\n",
       "      <td>December</td>\n",
       "      <td>5</td>\n",
       "      <td>123</td>\n",
       "      <td>1.00</td>\n",
       "      <td>123.00</td>\n",
       "      <td>0</td>\n",
       "      <td>0</td>\n",
       "      <td>123</td>\n",
       "      <td>1.00</td>\n",
       "      <td>123.00</td>\n",
       "      <td>0.00</td>\n",
       "    </tr>\n",
       "    <tr>\n",
       "      <th>...</th>\n",
       "      <td>...</td>\n",
       "      <td>...</td>\n",
       "      <td>...</td>\n",
       "      <td>...</td>\n",
       "      <td>...</td>\n",
       "      <td>...</td>\n",
       "      <td>...</td>\n",
       "      <td>...</td>\n",
       "      <td>...</td>\n",
       "      <td>...</td>\n",
       "      <td>...</td>\n",
       "      <td>...</td>\n",
       "    </tr>\n",
       "    <tr>\n",
       "      <th>86</th>\n",
       "      <td>86</td>\n",
       "      <td>February</td>\n",
       "      <td>25</td>\n",
       "      <td>52</td>\n",
       "      <td>1.00</td>\n",
       "      <td>52.00</td>\n",
       "      <td>0</td>\n",
       "      <td>0</td>\n",
       "      <td>52</td>\n",
       "      <td>1.00</td>\n",
       "      <td>52.00</td>\n",
       "      <td>0.00</td>\n",
       "    </tr>\n",
       "    <tr>\n",
       "      <th>87</th>\n",
       "      <td>87</td>\n",
       "      <td>February</td>\n",
       "      <td>26</td>\n",
       "      <td>39</td>\n",
       "      <td>1.00</td>\n",
       "      <td>39.00</td>\n",
       "      <td>0</td>\n",
       "      <td>0</td>\n",
       "      <td>39</td>\n",
       "      <td>1.00</td>\n",
       "      <td>39.00</td>\n",
       "      <td>0.00</td>\n",
       "    </tr>\n",
       "    <tr>\n",
       "      <th>88</th>\n",
       "      <td>88</td>\n",
       "      <td>February</td>\n",
       "      <td>27</td>\n",
       "      <td>109</td>\n",
       "      <td>1.00</td>\n",
       "      <td>109.00</td>\n",
       "      <td>0</td>\n",
       "      <td>0</td>\n",
       "      <td>109</td>\n",
       "      <td>1.00</td>\n",
       "      <td>109.00</td>\n",
       "      <td>0.00</td>\n",
       "    </tr>\n",
       "    <tr>\n",
       "      <th>89</th>\n",
       "      <td>89</td>\n",
       "      <td>February</td>\n",
       "      <td>28</td>\n",
       "      <td>250</td>\n",
       "      <td>5.85</td>\n",
       "      <td>1462.83</td>\n",
       "      <td>69</td>\n",
       "      <td>69</td>\n",
       "      <td>181</td>\n",
       "      <td>1.85</td>\n",
       "      <td>852.85</td>\n",
       "      <td>609.98</td>\n",
       "    </tr>\n",
       "    <tr>\n",
       "      <th>90</th>\n",
       "      <td>90</td>\n",
       "      <td>February</td>\n",
       "      <td>29</td>\n",
       "      <td>156</td>\n",
       "      <td>1.22</td>\n",
       "      <td>190.54</td>\n",
       "      <td>0</td>\n",
       "      <td>0</td>\n",
       "      <td>156</td>\n",
       "      <td>1.22</td>\n",
       "      <td>190.54</td>\n",
       "      <td>0.00</td>\n",
       "    </tr>\n",
       "  </tbody>\n",
       "</table>\n",
       "<p>91 rows × 12 columns</p>\n",
       "</div>"
      ],
      "text/plain": [
       "    price_index     Month  Date  Demand  pipeline_price  \\\n",
       "0             0  December     1      94            1.00   \n",
       "1             1  December     2     304           14.39   \n",
       "2             2  December     3      70            1.00   \n",
       "3             3  December     4     222            3.67   \n",
       "4             4  December     5     123            1.00   \n",
       "..          ...       ...   ...     ...             ...   \n",
       "86           86  February    25      52            1.00   \n",
       "87           87  February    26      39            1.00   \n",
       "88           88  February    27     109            1.00   \n",
       "89           89  February    28     250            5.85   \n",
       "90           90  February    29     156            1.22   \n",
       "\n",
       "    cost_from_pipeline_only  demand_for_lng  purchase_from_calng  \\\n",
       "0                     94.00               0                    0   \n",
       "1                   4375.14             123                  123   \n",
       "2                     70.00               0                    0   \n",
       "3                    814.58              41                   41   \n",
       "4                    123.00               0                    0   \n",
       "..                      ...             ...                  ...   \n",
       "86                    52.00               0                    0   \n",
       "87                    39.00               0                    0   \n",
       "88                   109.00               0                    0   \n",
       "89                  1462.83              69                   69   \n",
       "90                   190.54               0                    0   \n",
       "\n",
       "    pipeline_intake  pipeline_intake_price  cost_from_both  savings  \n",
       "0                94                   1.00           94.00     0.00  \n",
       "1               181                   1.85         1257.85  3117.30  \n",
       "2                70                   1.00           70.00     0.00  \n",
       "3               181                   1.85          642.85   171.74  \n",
       "4               123                   1.00          123.00     0.00  \n",
       "..              ...                    ...             ...      ...  \n",
       "86               52                   1.00           52.00     0.00  \n",
       "87               39                   1.00           39.00     0.00  \n",
       "88              109                   1.00          109.00     0.00  \n",
       "89              181                   1.85          852.85   609.98  \n",
       "90              156                   1.22          190.54     0.00  \n",
       "\n",
       "[91 rows x 12 columns]"
      ]
     },
     "execution_count": 8,
     "metadata": {},
     "output_type": "execute_result"
    }
   ],
   "source": [
    "# get usage data\n",
    "usage_data = determine_actual_usage(demand_data, calng_price, peak_intake_from_pipeline, 1288)\n",
    "\n",
    "# inspect usage_data (round to 2 decimal places)\n",
    "np.round(usage_data,2)"
   ]
  },
  {
   "cell_type": "code",
   "execution_count": 9,
   "metadata": {},
   "outputs": [
    {
     "name": "stdout",
     "output_type": "stream",
     "text": [
      "Optimal total_LNG: 1200, Optimal peak_intake_from_pipeline: 185\n"
     ]
    }
   ],
   "source": [
    "import matplotlib.pyplot as plt\n",
    "\n",
    "\n",
    "\n",
    "# Constants\n",
    "calng_price = 7.50\n",
    "num_draws = 5000\n",
    "total_lng_range = range(700, 1300, 50)\n",
    "peak_intake_range = range(170, 200, 5)\n",
    "\n",
    "# Simulation function to estimate cost for given parameters\n",
    "def simulate_cost(total_LNG, peak_intake, demand_data, calng_price, num_draws):\n",
    "    costs = []\n",
    "    for _ in range(num_draws):\n",
    "        # Placeholder for the simulation logic to generate demand sample\n",
    "        # and determine the cost based on the `determine_actual_usage` logic\n",
    "        \n",
    "        # Simulated demand data should be generated here based on your assumptions or actual data\n",
    "        \n",
    "        # Calculate cost for the simulated demand\n",
    "        usage_data = determine_actual_usage(demand_data, calng_price, peak_intake, total_LNG)\n",
    "        total_cost = usage_data['cost_from_both'].sum() # Assuming 'cost_from_both' is the total cost\n",
    "        costs.append(total_cost)\n",
    "        \n",
    "    return np.mean(costs), np.std(costs)\n",
    "\n",
    "# Optimization process\n",
    "costs_dict = {}\n",
    "for total_LNG in total_lng_range:\n",
    "    for peak_intake in peak_intake_range:\n",
    "        avg_cost, _ = simulate_cost(total_LNG, peak_intake, demand_data, calng_price, num_draws)\n",
    "        costs_dict[(total_LNG, peak_intake)] = avg_cost\n",
    "\n",
    "# Find the optimal combination\n",
    "optimal_combination = min(costs_dict, key=costs_dict.get)\n",
    "optimal_total_LNG, optimal_peak_intake = optimal_combination\n",
    "\n",
    "print(f\"Optimal total_LNG: {optimal_total_LNG}, Optimal peak_intake_from_pipeline: {optimal_peak_intake}\")\n"
   ]
  },
  {
   "cell_type": "code",
   "execution_count": 10,
   "metadata": {
    "id": "ZyAW9btcGo1l",
    "outputId": "9192958b-c644-4327-9370-1db098274c45"
   },
   "outputs": [
    {
     "data": {
      "image/png": "[encoded data removed]",
      "text/plain": [
       "<Figure size 1000x500 with 1 Axes>"
      ]
     },
     "metadata": {},
     "output_type": "display_data"
    }
   ],
   "source": [
    "# Generate data for plotting: Varying total_LNG at optimal peak_intake\n",
    "total_lng_costs = []\n",
    "total_lng_stds = []\n",
    "for total_LNG in total_lng_range:\n",
    "    avg_cost, std_dev = simulate_cost(total_LNG, optimal_peak_intake, demand_data, calng_price, num_draws)\n",
    "    total_lng_costs.append(avg_cost)\n",
    "    total_lng_stds.append(std_dev)\n",
    "\n",
    "# Plotting\n",
    "plt.figure(figsize=(10, 5))\n",
    "plt.errorbar(total_lng_range, total_lng_costs, yerr=total_lng_stds, fmt='-o', ecolor='r', capsize=5, label='Average Cost with Std Dev')\n",
    "plt.title('Average Cost vs Total_LNG with Optimal Peak Intake')\n",
    "plt.xlabel('Total_LNG')\n",
    "plt.ylabel('Average Cost')\n",
    "plt.legend()\n",
    "plt.grid(True)\n",
    "plt.show()"
   ]
  },
  {
   "cell_type": "code",
   "execution_count": 11,
   "metadata": {},
   "outputs": [
    {
     "data": {
      "image/png": "[encoded data removed]",
      "text/plain": [
       "<Figure size 1000x500 with 1 Axes>"
      ]
     },
     "metadata": {},
     "output_type": "display_data"
    }
   ],
   "source": [
    "# Generate data for plotting: Varying peak_intake_from_pipeline at optimal total_LNG\n",
    "peak_intake_costs = []\n",
    "peak_intake_stds = []\n",
    "for peak_intake in peak_intake_range:\n",
    "    avg_cost, std_dev = simulate_cost(optimal_total_LNG, peak_intake, demand_data, calng_price, num_draws)\n",
    "    peak_intake_costs.append(avg_cost)\n",
    "    peak_intake_stds.append(std_dev)\n",
    "\n",
    "# Plotting\n",
    "plt.figure(figsize=(10, 5))\n",
    "plt.errorbar(peak_intake_range, peak_intake_costs, yerr=peak_intake_stds, fmt='-o', ecolor='r', capsize=5, label='Average Cost with Std Dev')\n",
    "plt.title('Average Cost vs Peak Intake from Pipeline with Optimal Total_LNG')\n",
    "plt.xlabel('Peak Intake from Pipeline')\n",
    "plt.ylabel('Average Cost')\n",
    "plt.legend()\n",
    "plt.grid(True)\n",
    "plt.show()\n"
   ]
  }
 ],
 "metadata": {
  "colab": {
   "provenance": []
  },
  "kernelspec": {
   "display_name": "Python 3 (ipykernel)",
   "language": "python",
   "name": "python3"
  },
  "language_info": {
   "codemirror_mode": {
    "name": "ipython",
    "version": 3
   },
   "file_extension": ".py",
   "mimetype": "text/x-python",
   "name": "python",
   "nbconvert_exporter": "python",
   "pygments_lexer": "ipython3",
   "version": "3.11.5"
  },
  "vscode": {
   "interpreter": {
    "hash": "1405b477b8237d6a530a2398cfdf59a2cadd068fb207958e047c1aae848871d2"
   }
  }
 },
 "nbformat": 4,
 "nbformat_minor": 1
}
